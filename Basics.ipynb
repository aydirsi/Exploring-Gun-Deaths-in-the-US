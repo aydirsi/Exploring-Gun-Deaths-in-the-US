{
 "cells": [
  {
   "cell_type": "code",
   "execution_count": 1,
   "metadata": {
    "collapsed": false
   },
   "outputs": [
    {
     "name": "stdout",
     "output_type": "stream",
     "text": [
      "{'M': 86349, 'F': 14449}\n",
      "{'Black': 23296, 'Hispanic': 9022, 'Native American/Native Alaskan': 917, 'Asian/Pacific Islander': 1326, 'White': 66237}\n"
     ]
    }
   ],
   "source": [
    "import csv\n",
    "f = open(\"guns.csv\", \"r\")\n",
    "data = list(csv.reader(f))\n",
    "data[0:5]\n",
    "headers = data.pop(0)\n",
    "headers\n",
    "data[:5]\n",
    "years = [row[1] for row in data]\n",
    "\n",
    "# Counter function\n",
    "\n",
    "#def counter(csv,index)\n",
    "#    count = {}\n",
    "#    for date in dates:\n",
    "#        if date in date_counts:\n",
    "#            date_counts[date] = date_counts[date] + 1\n",
    "#        else:\n",
    "#            date_counts[date] = 1\n",
    "#    return date_counts\n",
    "\n",
    "#3 breakdown by year\n",
    "year_counts = {}\n",
    "for year in years:\n",
    "    if year in year_counts:\n",
    "        year_counts[year] = year_counts[year] + 1\n",
    "    else:\n",
    "        year_counts[year] = 1\n",
    "year_counts\n",
    "\n",
    "# 4 breakdown by date\n",
    "import datetime\n",
    "dates = [datetime.datetime(year = int(row[1]),month = int(row[2]), day =1) for row in data]\n",
    "dates[0:5]\n",
    "\n",
    "date_counts = {}\n",
    "for date in dates:\n",
    "    if date in date_counts:\n",
    "        date_counts[date] = date_counts[date] + 1\n",
    "    else:\n",
    "        date_counts[date] = 1\n",
    "date_counts\n",
    "\n",
    "# breakdown by sex and race\n",
    "sex_counts = {}\n",
    "gender = [row[5] for row in data]\n",
    "for sex in gender:\n",
    "    if sex in sex_counts:\n",
    "        sex_counts[sex] = sex_counts[sex] + 1\n",
    "    else:\n",
    "        sex_counts[sex] = 1\n",
    "print(sex_counts)\n",
    "\n",
    "race_counts = {}\n",
    "races = [row[7] for row in data]\n",
    "for race in races:\n",
    "    if race in race_counts:\n",
    "        race_counts[race] = race_counts[race] + 1\n",
    "    else:\n",
    "        race_counts[race] = 1\n",
    "print(race_counts)"
   ]
  },
  {
   "cell_type": "markdown",
   "metadata": {},
   "source": [
    "Most deaths are males, and the victims by number are mostly whites. The percentage of the population, the demographics of the area where crime was commited and the intent of crime would provide better insight"
   ]
  },
  {
   "cell_type": "code",
   "execution_count": 2,
   "metadata": {
    "collapsed": false
   },
   "outputs": [
    {
     "data": {
      "text/plain": [
       "{'Asian/Pacific Islander': 1326,\n",
       " 'Black': 23296,\n",
       " 'Hispanic': 9022,\n",
       " 'Native American/Native Alaskan': 917,\n",
       " 'White': 66237}"
      ]
     },
     "execution_count": 2,
     "metadata": {},
     "output_type": "execute_result"
    }
   ],
   "source": [
    "census = list(csv.reader(open(\"census.csv\",\"r\")))\n",
    "census\n",
    "# Dictionary of death by race - race_counts\n",
    "race_counts"
   ]
  },
  {
   "cell_type": "code",
   "execution_count": null,
   "metadata": {
    "collapsed": false
   },
   "outputs": [],
   "source": []
  },
  {
   "cell_type": "code",
   "execution_count": 6,
   "metadata": {
    "collapsed": false
   },
   "outputs": [
    {
     "name": "stdout",
     "output_type": "stream",
     "text": [
      "{'Black': 19510, 'Hispanic': 5634, 'Native American/Native Alaskan': 326, 'Asian/Pacific Islander': 559, 'White': 9147}\n"
     ]
    },
    {
     "data": {
      "text/plain": [
       "{'Asian/Pacific Islander': 2.449784243688935,\n",
       " 'Black': 48.471284987180944,\n",
       " 'Hispanic': 12.627161104219914,\n",
       " 'Native American/Native Alaskan': 8.717729026240365,\n",
       " 'White': 4.6356417981453335}"
      ]
     },
     "execution_count": 6,
     "metadata": {},
     "output_type": "execute_result"
    }
   ],
   "source": [
    "# Gun deaths per 100,000 per race in the USA\n",
    "\n",
    "mapping = { }\n",
    "mapping['White'] = 197318956\n",
    "mapping['Black'] = 40250635\n",
    "mapping['Asian/Pacific Islander'] = 22818336\n",
    "mapping['Hispanic'] = 44618105\n",
    "mapping['Native American/Native Alaskan'] = 3739506\n",
    "\n",
    "race_per_hundredk = {}\n",
    "for k,v in race_counts.items():\n",
    "    race_per_hundredk[k] = (v/mapping[k])*100000\n",
    "race_per_hundredk\n",
    "\n",
    "# Gun deaths - Homicide intent\n",
    "\n",
    "homicide_race_counts = {}\n",
    "races = [row[7] for row in data]\n",
    "intents = [intent[3] for intent in data]\n",
    "for i,race in enumerate(races):\n",
    "    if intents[i] == \"Homicide\":\n",
    "        if race in homicide_race_counts:\n",
    "            homicide_race_counts[race] = homicide_race_counts[race] + 1\n",
    "        else:\n",
    "            homicide_race_counts[race] = 1\n",
    "print(homicide_race_counts)\n",
    "\n",
    "homicide_race_per_hundredk = {}\n",
    "for k,v in homicide_race_counts.items():\n",
    "    homicide_race_per_hundredk[k] = (v/mapping[k])*100000\n",
    "homicide_race_per_hundredk"
   ]
  },
  {
   "cell_type": "code",
   "execution_count": null,
   "metadata": {
    "collapsed": true
   },
   "outputs": [],
   "source": []
  }
 ],
 "metadata": {
  "kernelspec": {
   "display_name": "Python 3",
   "language": "python",
   "name": "python3"
  },
  "language_info": {
   "codemirror_mode": {
    "name": "ipython",
    "version": 3
   },
   "file_extension": ".py",
   "mimetype": "text/x-python",
   "name": "python",
   "nbconvert_exporter": "python",
   "pygments_lexer": "ipython3",
   "version": "3.4.3"
  }
 },
 "nbformat": 4,
 "nbformat_minor": 0
}
